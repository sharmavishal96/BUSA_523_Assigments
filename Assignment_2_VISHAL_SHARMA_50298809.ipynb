{
 "cells": [
  {
   "cell_type": "markdown",
   "id": "e6a9d05a",
   "metadata": {},
   "source": [
    "Question 1: Write a program for flipping a coin 10,000 times and store the results in a list.\n",
    "After which, identify the number of streaks."
   ]
  },
  {
   "cell_type": "code",
   "execution_count": 29,
   "id": "59f48bc0",
   "metadata": {},
   "outputs": [
    {
     "name": "stdout",
     "output_type": "stream",
     "text": [
      "314\n"
     ]
    }
   ],
   "source": [
    "import random\n",
    "\n",
    "record = []\n",
    "size = 10000\n",
    "for i in range (size):\n",
    "    flip_side = random.randint(0,1)\n",
    "    if flip_side == 0:\n",
    "        record.append(\"Heads\")\n",
    "    \n",
    "    else:\n",
    "        record.append(\"Tails\")\n",
    "streaks = 0\n",
    "count = 1\n",
    "\n",
    "for i in range (1,size):\n",
    "    if record[i]==record[i-1]:\n",
    "        count =  count + 1\n",
    "    else:\n",
    "        \n",
    "        if count >= 5:\n",
    "            streaks =  streaks + 1\n",
    "        count = 1         \n",
    "if count >= 5:\n",
    "    streaks =  streaks + 1\n",
    "     \n",
    "    \n",
    "    \n",
    "print(str(streaks))\n",
    "\n"
   ]
  },
  {
   "cell_type": "markdown",
   "id": "f8cc9298",
   "metadata": {},
   "source": [
    "Question 2:  Write a program to take user inputs (number of swords, diamonds, gold coins,\n",
    "ropes and potions) for a video game and store them in a dictionary. After\n",
    "which print the following output."
   ]
  },
  {
   "cell_type": "code",
   "execution_count": 31,
   "id": "5fa573a4",
   "metadata": {
    "scrolled": true
   },
   "outputs": [
    {
     "name": "stdout",
     "output_type": "stream",
     "text": [
      "Enter number of swords: 5\n",
      "Enter number of diamonds: 5\n",
      "Enter number of gold coins: 5\n",
      "Enter number of ropes: 5\n",
      "Enter number of potions: 5\n",
      "Inventory: \n",
      "5 Swords\n",
      "5 Diamonds\n",
      "5 Gold_coins\n",
      "5 Ropes\n",
      "5 Potions\n"
     ]
    }
   ],
   "source": [
    "swords = int(input(\"Enter number of swords: \"))\n",
    "diamonds = int(input(\"Enter number of diamonds: \"))\n",
    "gold_coins = int(input(\"Enter number of gold coins: \"))\n",
    "ropes = int(input(\"Enter number of ropes: \"))\n",
    "potions = int(input(\"Enter number of potions: \"))\n",
    "\n",
    "inventory = {\n",
    "    \"Swords\": swords,\n",
    "    \"Diamonds\": diamonds,\n",
    "    \"Gold_coins\": gold_coins,\n",
    "    \"Ropes\": ropes,\n",
    "    \"Potions\": potions\n",
    "}\n",
    "print(\"Inventory: \")\n",
    "for key,value in inventory.items():\n",
    "    print(value, key)"
   ]
  },
  {
   "cell_type": "markdown",
   "id": "aa3b4b74",
   "metadata": {},
   "source": [
    "Question 3: Repeat question 1 using arrays."
   ]
  },
  {
   "cell_type": "code",
   "execution_count": 35,
   "id": "8df12f85",
   "metadata": {},
   "outputs": [
    {
     "name": "stdout",
     "output_type": "stream",
     "text": [
      "309\n"
     ]
    }
   ],
   "source": [
    "import random\n",
    "import numpy as np\n",
    "\n",
    "record = []\n",
    "size = 10000\n",
    "for i in range (size):\n",
    "    flip_side = random.randint(0,1)\n",
    "    if flip_side == 0:\n",
    "        record.append(\"Heads\")\n",
    "    \n",
    "    else:\n",
    "        record.append(\"Tails\")\n",
    "\n",
    "\n",
    "record_arr = np.array(record)\n",
    "\n",
    "\n",
    "streaks = 0\n",
    "count = 1\n",
    "\n",
    "for i in range (1,size):\n",
    "    if record_arr[i]==record_arr[i-1]:\n",
    "        count =  count + 1\n",
    "    else:\n",
    "        \n",
    "        if count >= 5:\n",
    "            streaks =  streaks + 1\n",
    "        count = 1         \n",
    "if count >= 5:\n",
    "    streaks =  streaks + 1\n",
    "     \n",
    "    \n",
    "    \n",
    "print(str(streaks))\n"
   ]
  },
  {
   "cell_type": "markdown",
   "id": "1f114a45",
   "metadata": {},
   "source": [
    "Question 4: Create a game with the following instructions: (40)\n",
    "a. There are 3 players and 10 iterations.\n",
    "b. In each iteration, every player rolls a die.\n",
    "c. The winner of the game is the one who has the highest score when rolls\n",
    "from all the iterations are added"
   ]
  },
  {
   "cell_type": "code",
   "execution_count": 57,
   "id": "6296157c",
   "metadata": {},
   "outputs": [
    {
     "name": "stdout",
     "output_type": "stream",
     "text": [
      "Player 1 score is:  41\n",
      "Player 2 score is:  28\n",
      "Player 3 score is:  25\n",
      "\n",
      "Winning player is: \n",
      "Player  1\n"
     ]
    }
   ],
   "source": [
    "import random\n",
    "\n",
    "players_score = [0, 0, 0]\n",
    "\n",
    "for i in range(10):\n",
    "    for k in range (len(players_score)):\n",
    "        players_score[k] = players_score[k] + random.randint(1,6) \n",
    "\n",
    "\n",
    "print(\"Player 1 score is: \", players_score[0])\n",
    "print(\"Player 2 score is: \", players_score[1])\n",
    "print(\"Player 3 score is: \", players_score[2])\n",
    "\n",
    "max_score = max(players_score) \n",
    "print (\"\\nWinning player is: \")\n",
    "for k in range (len(players_score)):\n",
    "    if players_score[k] == max_score:\n",
    "        print (\"Player \", k+1)\n",
    "\n",
    "\n",
    "\n",
    "\n"
   ]
  }
 ],
 "metadata": {
  "kernelspec": {
   "display_name": "Python 3",
   "language": "python",
   "name": "python3"
  },
  "language_info": {
   "codemirror_mode": {
    "name": "ipython",
    "version": 3
   },
   "file_extension": ".py",
   "mimetype": "text/x-python",
   "name": "python",
   "nbconvert_exporter": "python",
   "pygments_lexer": "ipython3",
   "version": "3.8.8"
  }
 },
 "nbformat": 4,
 "nbformat_minor": 5
}
