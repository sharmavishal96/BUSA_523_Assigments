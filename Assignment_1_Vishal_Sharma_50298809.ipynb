{
 "cells": [
  {
   "cell_type": "markdown",
   "id": "31d7ed4a",
   "metadata": {},
   "source": [
    "Question 1: Write a program which randomly selects a number between 1 and 20. The user is then given 5 chances to guess the number correctly to win."
   ]
  },
  {
   "cell_type": "code",
   "execution_count": 20,
   "id": "4ebd7e6f",
   "metadata": {},
   "outputs": [
    {
     "name": "stdout",
     "output_type": "stream",
     "text": [
      "Guess the number correctly which is between 1 and 20, you have given 5 chances\n",
      "Guess the number (chance  1 ):\n",
      "12\n",
      "OOppsss, Wrong Guess. Try Again\n",
      "Guess the number (chance  2 ):\n",
      "2\n",
      "OOppsss, Wrong Guess. Try Again\n",
      "Guess the number (chance  3 ):\n",
      "2\n",
      "OOppsss, Wrong Guess. Try Again\n",
      "Guess the number (chance  4 ):\n",
      "2\n",
      "OOppsss, Wrong Guess. Try Again\n",
      "Guess the number (chance  5 ):\n",
      "2\n",
      "You are out guesses\n",
      "Thank you for playing, Correct number was  7\n"
     ]
    }
   ],
   "source": [
    "import random\n",
    "Rnumber = random.randint(1,20)\n",
    "print(\"Guess the number correctly which is between 1 and 20, you have given 5 chances\")\n",
    "for i in range(5):\n",
    "    print(\"Guess the number\", \"(chance \", i+1,\"):\")\n",
    "    Unumber = int(input())\n",
    "    if Unumber == Rnumber:\n",
    "        print(\"Congratulation, you guess the right number\")\n",
    "        break\n",
    "    elif i == 4:\n",
    "        print(\"You are out guesses\")\n",
    "    else: \n",
    "        print(\"OOppsss, Wrong Guess. Try Again\")\n",
    "print(\"Thank you for playing, Correct number was \", Rnumber)"
   ]
  },
  {
   "cell_type": "markdown",
   "id": "b4c7d4b7",
   "metadata": {},
   "source": [
    "Question 2: Make the following changes to the above program. After each guess, print if the next guess should be Lower or Higher."
   ]
  },
  {
   "cell_type": "code",
   "execution_count": 23,
   "id": "6a1765e6",
   "metadata": {},
   "outputs": [
    {
     "name": "stdout",
     "output_type": "stream",
     "text": [
      "Guess the number correctly which is between 1 and 20, you have given 5 chances\n",
      "Guess the number (chance  1 ):\n",
      "5\n",
      "Oopppss,wrong guess.\n",
      "Guess should be Higher\n",
      "Guess the number (chance  2 ):\n",
      "5\n",
      "Oopppss,wrong guess.\n",
      "Guess should be Higher\n",
      "Guess the number (chance  3 ):\n",
      "5\n",
      "Oopppss,wrong guess.\n",
      "Guess should be Higher\n",
      "Guess the number (chance  4 ):\n",
      "5\n",
      "Oopppss,wrong guess.\n",
      "Guess should be Higher\n",
      "Guess the number (chance  5 ):\n",
      "5\n",
      "You are out guesses\n",
      "Thank you for playing, Correct number was  15\n"
     ]
    }
   ],
   "source": [
    "import random\n",
    "Rnumber = random.randint(1,20)\n",
    "print(\"Guess the number correctly which is between 1 and 20, you have given 5 chances\")\n",
    "for i in range(5):\n",
    "    print(\"Guess the number\", \"(chance \", i+1,\"):\")\n",
    "    Unumber = int(input())\n",
    "    if Unumber == Rnumber:\n",
    "        print(\"Congratulation, you guess the right number\")\n",
    "        break\n",
    "    elif i == 4:\n",
    "        print(\"You are out guesses\")\n",
    "    elif Unumber > Rnumber:\n",
    "        print(\"Oopppss,wrong guess.\\nGuess should be Lower\")\n",
    "    elif Unumber < Rnumber:\n",
    "        print(\"Oopppss,wrong guess.\\nGuess should be Higher\")\n",
    "    \n",
    "print(\"Thank you for playing, Correct number was \", Rnumber)"
   ]
  },
  {
   "cell_type": "markdown",
   "id": "fb0f4ee0",
   "metadata": {},
   "source": [
    "Question 3: Write a program for \"Rock-Paper-Scissors-Lizard-Spock\"."
   ]
  },
  {
   "cell_type": "code",
   "execution_count": 24,
   "id": "8bd33397",
   "metadata": {},
   "outputs": [
    {
     "name": "stdout",
     "output_type": "stream",
     "text": [
      "Hello... Let's play \n",
      "Rock, Paper, Scissors, Lizard or Spock\n",
      "Enter your move\n",
      "Paper\n",
      "Computer Move is  Scissors\n",
      "You Loose\n",
      "Thank you for playing\n"
     ]
    }
   ],
   "source": [
    "import random\n",
    "\n",
    "print(\"Hello... Let's play \\nRock, Paper, Scissors, Lizard or Spock\")\n",
    "print(\"Enter your move\")\n",
    "Umove = input()\n",
    "\n",
    "Rmove = random.randint(1,5)\n",
    "\n",
    "if Rmove == 1:\n",
    "    computer = \"Rock\"\n",
    "elif Rmove == 2:\n",
    "    computer = \"Paper\"\n",
    "elif Rmove ==  3:\n",
    "    computer = \"Scissors\"\n",
    "elif Rmove == 4:\n",
    "    computer = \"Lizard\"\n",
    "elif Rmove == 5:\n",
    "    computer = \"Spock\"\n",
    "\n",
    "print(\"Computer Move is \", computer)\n",
    "\n",
    "if Umove == computer:\n",
    "    print(\"It's a Tie\")\n",
    "elif Umove == \"Rock\" and (computer == \"Scissors\" or computer == \"Lizard\"):\n",
    "    print(\"You Win\")\n",
    "elif Umove == \"Rock\" and (computer == \"Paper\" or computer == \"Spock\"):\n",
    "    print(\"You Loose\")\n",
    "elif Umove == \"Paper\" and (computer == \"Rock\" or computer == \"Spock\"):\n",
    "    print(\"You Win\")\n",
    "elif Umove == \"Paper\" and (computer == \"Scissors\" or computer == \"Lizard\"):\n",
    "    print(\"You Loose\")\n",
    "elif Umove == \"Scissors\" and (computer == \"Paper\" or computer == \"Lizard\"):\n",
    "    print(\"You Win\")\n",
    "elif Umove == \"Scissors\" and (computer == \"Rock\" or computer == \"Spock\"):\n",
    "    print(\"You Loose\")\n",
    "elif Umove == \"Spock\" and (computer == \"Scissors\" or computer == \"Rock\"):\n",
    "    print(\"You Win\")\n",
    "elif Umove == \"Spock\" and (computer == \"Paper\" or computer == \"lizard\"):\n",
    "    print(\"You Loose\")\n",
    "elif Umove == \"Lizard\" and (computer == \"Spock\" or computer == \"Paper\"):\n",
    "    print(\"You Win\")\n",
    "elif Umove == \"Lizard\" and (computer == \"Rock\" or computer == \"Scissors\"):\n",
    "    print(\"You Loose\")\n",
    "else:\n",
    "    print(\"Invalid Entry\")\n",
    "\n",
    "print(\"Thank you for playing\")"
   ]
  },
  {
   "cell_type": "code",
   "execution_count": null,
   "id": "0f1f6f0a",
   "metadata": {},
   "outputs": [],
   "source": []
  }
 ],
 "metadata": {
  "kernelspec": {
   "display_name": "Python 3",
   "language": "python",
   "name": "python3"
  },
  "language_info": {
   "codemirror_mode": {
    "name": "ipython",
    "version": 3
   },
   "file_extension": ".py",
   "mimetype": "text/x-python",
   "name": "python",
   "nbconvert_exporter": "python",
   "pygments_lexer": "ipython3",
   "version": "3.8.8"
  }
 },
 "nbformat": 4,
 "nbformat_minor": 5
}
